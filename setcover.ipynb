{
 "cells": [
  {
   "cell_type": "code",
   "execution_count": 2,
   "metadata": {
    "collapsed": false
   },
   "outputs": [],
   "source": [
    "# Greedy\n",
    "def SetCover(X, F):\n",
    "    U = X\n",
    "    e = set()\n",
    "    while U != set():\n",
    "        # select an S ∈ F that maximizes |(S ∩ U)|\n",
    "        max = -1\n",
    "        for element in F:\n",
    "            if len( element & U ) >= max:\n",
    "                max = len( element & U )\n",
    "                S = element\n",
    "        U = U - S\n",
    "        e.add(S) # e = e ∪ {S}\n",
    "    return e"
   ]
  },
  {
   "cell_type": "code",
   "execution_count": 3,
   "metadata": {
    "collapsed": true
   },
   "outputs": [],
   "source": [
    "x = frozenset([1, 2, 3, 4, 5, 6, 7, 8, 9, 10, 11 ,12])"
   ]
  },
  {
   "cell_type": "code",
   "execution_count": 4,
   "metadata": {
    "collapsed": false
   },
   "outputs": [],
   "source": [
    "s1 = frozenset([1, 2, 3, 4, 5, 6])\n",
    "s2 = frozenset([5, 6, 8, 9])\n",
    "s3 = frozenset([1, 4, 7, 10])\n",
    "s4 = frozenset([2, 5, 8, 11])\n",
    "s5 = frozenset([3, 6, 9, 12])\n",
    "s6 = frozenset([10, 11])\n",
    "f = set([s1, s2, s3, s4, s5, s6])"
   ]
  },
  {
   "cell_type": "code",
   "execution_count": 5,
   "metadata": {
    "collapsed": false
   },
   "outputs": [
    {
     "data": {
      "text/plain": [
       "{frozenset({2, 5, 8, 11}),\n",
       " frozenset({3, 6, 9, 12}),\n",
       " frozenset({1, 4, 7, 10}),\n",
       " frozenset({1, 2, 3, 4, 5, 6})}"
      ]
     },
     "execution_count": 5,
     "metadata": {},
     "output_type": "execute_result"
    }
   ],
   "source": [
    "SetCover(x, f)"
   ]
  },
  {
   "cell_type": "code",
   "execution_count": 14,
   "metadata": {
    "collapsed": false
   },
   "outputs": [
    {
     "data": {
      "text/plain": [
       "True"
      ]
     },
     "execution_count": 14,
     "metadata": {},
     "output_type": "execute_result"
    }
   ],
   "source": [
    "covered = set()\n",
    "for element in SetCover(x, f):\n",
    "    covered = covered | element\n",
    "covered == x"
   ]
  },
  {
   "cell_type": "code",
   "execution_count": null,
   "metadata": {
    "collapsed": true
   },
   "outputs": [],
   "source": []
  }
 ],
 "metadata": {
  "kernelspec": {
   "display_name": "Python 2",
   "language": "python",
   "name": "python2"
  },
  "language_info": {
   "codemirror_mode": {
    "name": "ipython",
    "version": 2
   },
   "file_extension": ".py",
   "mimetype": "text/x-python",
   "name": "python",
   "nbconvert_exporter": "python",
   "pygments_lexer": "ipython2",
   "version": "2.7.12"
  }
 },
 "nbformat": 4,
 "nbformat_minor": 2
}
